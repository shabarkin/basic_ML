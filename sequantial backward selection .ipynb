{
 "cells": [
  {
   "cell_type": "code",
   "execution_count": 180,
   "metadata": {},
   "outputs": [],
   "source": [
    "from sklearn.base import clone \n",
    "from itertools import combinations \n",
    "import numpy as np \n",
    "from sklearn.model_selection import train_test_split\n",
    "from sklearn.metrics import accuracy_score\n",
    "\n",
    "\n",
    "class SBS:\n",
    "    def __init__(self, estimator, k_features, scoring = accuracy_score,\n",
    "                    test_size = 0.25, random_state = 1):\n",
    "        self.scoring = scoring\n",
    "        self.estimator = estimator\n",
    "        self.k_features = k_features\n",
    "        self.test_size = test_size\n",
    "        self.random_state = random_state\n",
    "    def fit(self, x, y ):\n",
    "        x_train, x_test, y_train, y_test = train_test_split(x, y, \n",
    "                                                test_size = self.test_size,\n",
    "                                                random_state = self.random_state)\n",
    "        dim = x_train.shape[1]\n",
    "        self.indices_ = tuple( range(dim))\n",
    "        self.subsets_ = [self.indices_]\n",
    "        score = self._calc_score(x_train,y_train,x_test,y_test,self.indices_)\n",
    "        \n",
    "        self.scores_ = [score]\n",
    "        \n",
    "        while dim > self.k_features:\n",
    "            scores = []\n",
    "            subsets = []\n",
    "            \n",
    "            for p in combinations(self.indices_, r = dim - 1):\n",
    "                score = self._calc_score(x_train,y_train,x_test,y_test,p)\n",
    "                scores.append(score)\n",
    "                subsets.append(p)\n",
    "                \n",
    "            best = np.argmax(scores)\n",
    "            self.indices_ = subsets[best]\n",
    "            self.subsets_.append(self.indices_)\n",
    "            dim -=1\n",
    "            self.scores_.append(scores[best])\n",
    "        self.k_score_ = self.scores_[-1]\n",
    "        \n",
    "        return self\n",
    "    def transform(self,x):\n",
    "        return x[:,self.indices_]\n",
    "    \n",
    "    def _calc_score(self,x_train,y_train,x_test,y_test,indices):\n",
    "        \n",
    "        self.estimator.fit(x_train[:, indices], y_train)\n",
    "        y_pred = self.estimator.predict(x_test[:,indices])\n",
    "        score = self.scoring(y_test,y_pred)\n",
    "\n",
    "        return score \n",
    "    "
   ]
  },
  {
   "cell_type": "code",
   "execution_count": 181,
   "metadata": {},
   "outputs": [],
   "source": [
    "from sklearn.datasets import load_wine\n",
    "data = load_wine()\n",
    "x = data.data\n",
    "y = data.target\n",
    "x_train, x_test, y_train, y_test = train_test_split(x, y, \n",
    "                                                test_size = 0.3,\n",
    "                                                random_state = 0)\n",
    "\n",
    "from sklearn.preprocessing import StandardScaler\n",
    "stdsc = StandardScaler()\n",
    "x_train_std = stdsc.fit(x_train)\n",
    "x_test_std = stdsc.transform(x_test)"
   ]
  },
  {
   "cell_type": "code",
   "execution_count": 182,
   "metadata": {
    "scrolled": false
   },
   "outputs": [
    {
     "data": {
      "image/png": "[encoded data removed]",
      "text/plain": [
       "<Figure size 432x288 with 1 Axes>"
      ]
     },
     "metadata": {
      "needs_background": "light"
     },
     "output_type": "display_data"
    }
   ],
   "source": [
    "from sklearn.neighbors import KNeighborsClassifier\n",
    "import matplotlib.pyplot as plt \n",
    "knn = KNeighborsClassifier(n_neighbors = 2 )\n",
    "sbs = SBS(knn,k_features = 1)\n",
    "sbs.fit(x_train,y_train)\n",
    "\n",
    "k_feat = [len(k) for k in sbs.subsets_]\n",
    "plt.plot(k_feat,sbs.scores_,marker = \"o\")\n",
    "plt.ylim([0.7,1.1])\n",
    "plt.ylabel(\"Accuracy\")\n",
    "plt.xlabel(\"Number of features\")\n",
    "plt.grid()\n",
    "plt.show()\n",
    "\n"
   ]
  },
  {
   "cell_type": "code",
   "execution_count": 189,
   "metadata": {},
   "outputs": [],
   "source": [
    "from sklearn.ensemble import RandomForestClassifier\n",
    "feat_labels = \"\"\"\n",
    " \t\t- Alcohol\n",
    " \t\t- Malic acid\n",
    " \t\t- Ash\n",
    "\t\t- Alcalinity of ash  \n",
    " \t\t- Magnesium\n",
    "\t\t- Total phenols\n",
    " \t\t- Flavanoids\n",
    " \t\t- Nonflavanoid phenols\n",
    " \t\t- Proanthocyanins\n",
    "\t\t- Color intensity\n",
    " \t\t- Hue\n",
    " \t\t- OD280/OD315 of diluted wines\n",
    " \t\t- Proline\"\"\"\n",
    "feat_labels = [i.replace(\"-\",\"\").strip() for i in feat_labels.split(\"\\n\") if i != \"\"]\n",
    "\n",
    "forest = RandomForestClassifier(n_estimators = 10000,random_state = 0, n_jobs = -1)\n",
    "forest.fit(x_train,y_train)\n",
    "importances = forest.feature_importances_\n",
    "\n",
    "indices = np.argsort((importances)[::-1] )\n"
   ]
  },
  {
   "cell_type": "code",
   "execution_count": 190,
   "metadata": {},
   "outputs": [
    {
     "name": "stdout",
     "output_type": "stream",
     "text": [
      " 1) Hue                             0.078243\n",
      " 2) Total phenols                   0.060718\n",
      " 3) Proanthocyanins                 0.022351\n",
      " 4) Magnesium                       0.022078\n",
      " 5) OD280/OD315 of diluted wines    0.131987\n",
      " 6) Color intensity                 0.182483\n",
      " 7) Nonflavanoid phenols            0.014645\n",
      " 8) Ash                             0.013916\n",
      " 9) Proline                         0.158610\n",
      "10) Malic acid                      0.025400\n",
      "11) Flavanoids                      0.150948\n",
      "12) Alcohol                         0.106589\n",
      "13) Alcalinity of ash               0.032033\n"
     ]
    }
   ],
   "source": [
    "for f in range(x_train.shape[1]):\n",
    "    print(\"{0:2d}) {1:<30}  {2:f}\".format(f+1,feat_labels[indices[f]],importances[indices[f]]))"
   ]
  },
  {
   "cell_type": "code",
   "execution_count": 222,
   "metadata": {},
   "outputs": [
    {
     "data": {
      "image/png": "[encoded data removed]",
      "text/plain": [
       "<Figure size 432x288 with 1 Axes>"
      ]
     },
     "metadata": {
      "needs_background": "light"
     },
     "output_type": "display_data"
    }
   ],
   "source": [
    "plt.title(\"accuracy features\")\n",
    "plt.bar(range(x_train.shape[1]), importances, color = \"blue\",align = \"center\")\n",
    "\n",
    "plt.xticks( range(x_train.shape[1]), feat_labels, rotation = 90)\n",
    "plt.xlim([-1,x_train.shape[1]])\n",
    "plt.ylim([0,0.2])\n",
    "plt.tight_layout()\n",
    "plt.show()\n",
    "\n"
   ]
  }
 ],
 "metadata": {
  "kernelspec": {
   "display_name": "Python 3",
   "language": "python",
   "name": "python3"
  },
  "language_info": {
   "codemirror_mode": {
    "name": "ipython",
    "version": 3
   },
   "file_extension": ".py",
   "mimetype": "text/x-python",
   "name": "python",
   "nbconvert_exporter": "python",
   "pygments_lexer": "ipython3",
   "version": "3.7.2"
  }
 },
 "nbformat": 4,
 "nbformat_minor": 2
}
