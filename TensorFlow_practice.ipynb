{
 "cells": [
  {
   "cell_type": "code",
   "execution_count": 4,
   "metadata": {},
   "outputs": [
    {
     "name": "stdout",
     "output_type": "stream",
     "text": [
      "Shapes () (4,) (2, 2)\n",
      "Rank 0 1 2\n"
     ]
    }
   ],
   "source": [
    "import tensorflow as tf \n",
    "\n",
    "import numpy as np \n",
    "\n",
    "g = tf.Graph()\n",
    "\n",
    "with g.as_default():\n",
    "    t1 = tf.constant(np.pi)\n",
    "    t2 = tf.constant([1,2,3,4])\n",
    "    t3 = tf.constant([[1,2], [3,4]])\n",
    "    \n",
    "    r1 = tf.rank(t1)\n",
    "    r2 = tf.rank(t2)\n",
    "    r3 = tf.rank(t3)\n",
    "    \n",
    "    s1 = t1.get_shape()\n",
    "    s2 = t2.get_shape()\n",
    "    s3 = t3.get_shape()\n",
    "    \n",
    "    print(\"Shapes\",s1,s2,s3)\n",
    "    \n",
    "with tf.Session(graph = g) as sess:\n",
    "    print(\"Rank\", r1.eval(),r2.eval(),r3.eval() )\n",
    "    \n",
    "    "
   ]
  },
  {
   "cell_type": "code",
   "execution_count": 14,
   "metadata": {},
   "outputs": [
    {
     "name": "stdout",
     "output_type": "stream",
     "text": [
      "3\n",
      "2*(a-b)+c =>  9\n"
     ]
    }
   ],
   "source": [
    "g = tf.Graph()\n",
    "\n",
    "with g.as_default():\n",
    "    a = tf.constant(5,name = \"a\")\n",
    "    b = tf.constant(2,name = \"b\")\n",
    "    c = tf.constant(3,name = \"c\")\n",
    "\n",
    "    \n",
    "    z = 2* (a - b) + c\n",
    "\n",
    "with tf.Session(graph=g) as sess:\n",
    "\n",
    "    print('2*(a-b)+c => ', sess.run(z))\n"
   ]
  },
  {
   "cell_type": "code",
   "execution_count": 21,
   "metadata": {},
   "outputs": [
    {
     "name": "stdout",
     "output_type": "stream",
     "text": [
      "z:  11\n"
     ]
    }
   ],
   "source": [
    "g = tf.Graph()\n",
    "with g.as_default():\n",
    "    \n",
    "    tf_a = tf.placeholder(tf.int32,shape = [], name = \"tf_a\")\n",
    "    tf_b = tf.placeholder(tf.int32,shape = [], name = \"tf_b\")\n",
    "    tf_c = tf.placeholder(tf.int32,shape = [], name = \"tf_c\")\n",
    "    \n",
    "\n",
    "    r2 = 2 * (tf_a - tf_b)\n",
    "    z = r2 + tf_c\n",
    "\n",
    "    \n",
    "\n",
    "\n",
    "with tf.Session(graph = g) as sess:\n",
    "    feed = {\n",
    "        tf_a : 5,\n",
    "        tf_b : 1,\n",
    "        tf_c : 3\n",
    "    }\n",
    "    print(\"z: \", sess.run(z,feed_dict=feed))\n",
    "        "
   ]
  },
  {
   "cell_type": "code",
   "execution_count": 22,
   "metadata": {},
   "outputs": [],
   "source": [
    "import tensorflow as tf \n",
    "\n",
    "g = tf.Graph()\n",
    "\n",
    "with g.as_default():\n",
    "    tf_x = tf.placeholder(tf.float32,\n",
    "                          shape = [None,2],\n",
    "                          name = \"tf_x\")\n",
    "    \n",
    "    x_mean = tf.reduce_mean(tf_x,\n",
    "                            axis = 0,\n",
    "                            name = \"mean\")\n",
    "    \n",
    "    "
   ]
  },
  {
   "cell_type": "code",
   "execution_count": 23,
   "metadata": {},
   "outputs": [
    {
     "name": "stdout",
     "output_type": "stream",
     "text": [
      "Feeding data with shape  (5, 2)\n",
      "Result:  [0.62 0.47]\n",
      "Feeding data with shape  (10, 2)\n",
      "Result:  [0.46 0.49]\n"
     ]
    }
   ],
   "source": [
    "import numpy as np \n",
    "\n",
    "np.random.seed(123)\n",
    "np.set_printoptions(precision = 2)\n",
    "\n",
    "with tf.Session(graph = g) as sess:\n",
    "    x1 = np.random.uniform(low = 0,high = 1, size = (5,2))\n",
    "    \n",
    "    print('Feeding data with shape ', x1.shape)\n",
    "    \n",
    "    print(\"Result: \", sess.run(x_mean, feed_dict = {tf_x: x1 }))\n",
    "    \n",
    "    x2 = np.random.uniform(low = 0, high = 1, size = (10,2))\n",
    "    \n",
    "    print('Feeding data with shape ', x2.shape)\n",
    "    \n",
    "    print(\"Result: \", sess.run(x_mean, feed_dict = {tf_x: x2 }))"
   ]
  },
  {
   "cell_type": "code",
   "execution_count": 27,
   "metadata": {},
   "outputs": [
    {
     "name": "stdout",
     "output_type": "stream",
     "text": [
      "<tf.Variable 'w:0' shape=(2, 4) dtype=int64_ref>\n",
      "[[1 2 3 4]\n",
      " [5 6 7 8]]\n"
     ]
    }
   ],
   "source": [
    "g1 = tf.Graph()\n",
    "with g1.as_default():\n",
    "    w = tf.Variable(np.array([[1,2,3,4], [5,6,7,8]\n",
    "                             ]), name = \"w\")\n",
    "    print(w)\n",
    "    \n",
    "with tf.Session(graph = g1) as sess:\n",
    "    sess.run(tf.global_variables_initializer())\n",
    "    print(sess.run(w))"
   ]
  },
  {
   "cell_type": "code",
   "execution_count": 29,
   "metadata": {},
   "outputs": [
    {
     "name": "stdout",
     "output_type": "stream",
     "text": [
      "<tf.Variable 'net_A/layer-1/weights:0' shape=(10, 4) dtype=float32_ref>\n",
      "<tf.Variable 'net_A/layer-2/weights:0' shape=(20, 10) dtype=float32_ref>\n",
      "<tf.Variable 'net_B/layer-1/weights:0' shape=(10, 4) dtype=float32_ref>\n"
     ]
    }
   ],
   "source": [
    "import tensorflow as tf\n",
    "\n",
    "g = tf.Graph()\n",
    "\n",
    "with g.as_default():\n",
    "    \n",
    "    with tf.variable_scope('net_A'):\n",
    "        \n",
    "        with tf.variable_scope('layer-1'):\n",
    "            w1 = tf.Variable(tf.random_normal(shape=(10,4)), name='weights')\n",
    "        with tf.variable_scope('layer-2'):\n",
    "            w2 = tf.Variable(tf.random_normal(shape=(20,10)), name='weights')\n",
    "    \n",
    "    with tf.variable_scope('net_B'):\n",
    "        with tf.variable_scope('layer-1'):\n",
    "            w3 = tf.Variable(tf.random_normal(shape=(10,4)), name='weights')\n",
    "\n",
    "print(w1)\n",
    "print(w2)\n",
    "print(w3)"
   ]
  },
  {
   "cell_type": "code",
   "execution_count": null,
   "metadata": {},
   "outputs": [],
   "source": []
  }
 ],
 "metadata": {
  "kernelspec": {
   "display_name": "Python 3",
   "language": "python",
   "name": "python3"
  },
  "language_info": {
   "codemirror_mode": {
    "name": "ipython",
    "version": 3
   },
   "file_extension": ".py",
   "mimetype": "text/x-python",
   "name": "python",
   "nbconvert_exporter": "python",
   "pygments_lexer": "ipython3",
   "version": "3.7.2"
  }
 },
 "nbformat": 4,
 "nbformat_minor": 2
}
